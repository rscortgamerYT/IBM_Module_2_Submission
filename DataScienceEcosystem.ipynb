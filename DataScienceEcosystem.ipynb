{
  "metadata": {
    "kernelspec": {
      "name": "python",
      "display_name": "Python (Pyodide)",
      "language": "python"
    },
    "language_info": {
      "codemirror_mode": {
        "name": "python",
        "version": 3
      },
      "file_extension": ".py",
      "mimetype": "text/x-python",
      "name": "python",
      "nbconvert_exporter": "python",
      "pygments_lexer": "ipython3",
      "version": "3.8"
    }
  },
  "nbformat_minor": 4,
  "nbformat": 4,
  "cells": [
    {
      "cell_type": "markdown",
      "source": "#DATA SCIENCE THE FUTURE",
      "metadata": {}
    },
    {
      "cell_type": "markdown",
      "source": "##DATA IS THE FUTURE IS MY FINAL ASSESSMENT FOR THE MODULE 2 - TOOLS FOR DATA SCIENCE OF THE IBM PROFESSIONAL DATA SCIENCE CERTIFICATE",
      "metadata": {}
    },
    {
      "cell_type": "markdown",
      "source": "Some popular data science languages are - \n1. Python \n2. R \n3. Scala\n4. C++\n5. JAVA",
      "metadata": {}
    },
    {
      "cell_type": "markdown",
      "source": "Some popular data science libraries are - \n1. Matplotlib \n2. Numpy \n2. ggplot \n4. Pytorch \n5. Pandas",
      "metadata": {}
    },
    {
      "cell_type": "markdown",
      "source": "| Data Science Tools |  |  |\n|:--------:|:--------:|:--------:|\n|   Tableu |     |    |\n|   Matplotlib |     |     |\n|  Apache Spark  |     |   |",
      "metadata": {}
    },
    {
      "cell_type": "markdown",
      "source": "example of arithematic expression - 2 + 2 = 4",
      "metadata": {}
    },
    {
      "cell_type": "code",
      "source": "#This is a example of arithematic expression\n(2+2)*3",
      "metadata": {
        "trusted": true
      },
      "outputs": [
        {
          "execution_count": 6,
          "output_type": "execute_result",
          "data": {
            "text/plain": "12"
          },
          "metadata": {}
        }
      ],
      "execution_count": 6
    },
    {
      "cell_type": "code",
      "source": "#This will convert 200 minutes to hours by diving by 60.\nminutes = 200\nhour = minutes / 60\nprint (hour)",
      "metadata": {
        "trusted": true
      },
      "outputs": [
        {
          "name": "stdout",
          "text": "3.3333333333333335\n",
          "output_type": "stream"
        }
      ],
      "execution_count": 10
    },
    {
      "cell_type": "markdown",
      "source": "List popular languages for Data Science\n- Python\n- R",
      "metadata": {}
    },
    {
      "cell_type": "markdown",
      "source": "##Author \nShikhar",
      "metadata": {}
    },
    {
      "cell_type": "code",
      "source": "",
      "metadata": {
        "trusted": true
      },
      "outputs": [],
      "execution_count": null
    }
  ]
}